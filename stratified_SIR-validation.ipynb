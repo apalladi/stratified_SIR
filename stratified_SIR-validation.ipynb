{
 "cells": [
  {
   "cell_type": "code",
   "execution_count": 1,
   "id": "98517c37",
   "metadata": {},
   "outputs": [],
   "source": [
    "import numpy as np\n",
    "import pandas as pd\n",
    "import matplotlib.pyplot as plt"
   ]
  },
  {
   "cell_type": "code",
   "execution_count": 2,
   "id": "d675f886",
   "metadata": {},
   "outputs": [],
   "source": [
    "from src.simple_models import SIRD\n",
    "from src.stratified_models import stratified_SIRD\n",
    "from src.load_data import load_italian_data"
   ]
  },
  {
   "cell_type": "markdown",
   "id": "46fdf642",
   "metadata": {},
   "source": [
    "# Comparison between SIR and stratified SIR\n",
    "The two curves must coincide in the example shown below"
   ]
  },
  {
   "cell_type": "code",
   "execution_count": 3,
   "id": "309cb6d8",
   "metadata": {},
   "outputs": [],
   "source": [
    "pred_SIRD = SIRD(beta0 = 0.16, \n",
    "                gamma=0.04, \n",
    "                tau=56, \n",
    "                fatality_rate_perc = 1, \n",
    "                N=60*10**6, \n",
    "                I0=50000, \n",
    "                R0=0, \n",
    "                D0=0)[4]\n",
    "\n",
    "pred_stratified_SIRD = np.sum(stratified_SIRD(beta0 = 0.16, \n",
    "                                             gamma=0.04, \n",
    "                                             tau=56, \n",
    "                                             fatality_rates_perc=[1, 1, 1, 1], \n",
    "                                             N= [15*10**6, 15*10**6, 15*10**6, 15*10**6],\n",
    "                                             I0 = 50000*np.array([1/4, 1/4, 1/4, 1/4]),\n",
    "                                             R0 = [0, 0, 0, 0], \n",
    "                                             D0 = [0, 0, 0, 0])[4], axis=0)"
   ]
  },
  {
   "cell_type": "code",
   "execution_count": 4,
   "id": "97c1b324",
   "metadata": {},
   "outputs": [
    {
     "data": {
      "image/png": "[encoded data removed]",
      "text/plain": [
       "<Figure size 432x288 with 1 Axes>"
      ]
     },
     "metadata": {
      "needs_background": "light"
     },
     "output_type": "display_data"
    }
   ],
   "source": [
    "plt.plot(pred_SIRD, label='simple SIR')\n",
    "plt.plot(pred_stratified_SIRD, label='Stratified SIR', linestyle='--')\n",
    "plt.legend()\n",
    "plt.show()"
   ]
  },
  {
   "cell_type": "markdown",
   "id": "ddce40cf",
   "metadata": {},
   "source": [
    "# Use the stratified SIR to model the italian 2nd wave"
   ]
  },
  {
   "cell_type": "markdown",
   "id": "557215cb",
   "metadata": {},
   "source": [
    "### Load data"
   ]
  },
  {
   "cell_type": "code",
   "execution_count": 5,
   "id": "b2f4d877",
   "metadata": {},
   "outputs": [],
   "source": [
    "data_casi, data_inf, data_rec, data_dec = load_italian_data()\n",
    "\n",
    "# we only consider the 2nd wave\n",
    "time = [220, 360]\n",
    "data_casi = data_casi[time[0]:time[1]]\n",
    "data_inf  = data_inf[time[0]:time[1]]\n",
    "data_rec  = data_rec[time[0]:time[1]]\n",
    "data_dec  = data_dec[time[0]:time[1]]"
   ]
  },
  {
   "cell_type": "markdown",
   "id": "c7ded957",
   "metadata": {},
   "source": [
    "Distribution of italian population for different age groups.\n",
    "\n",
    "Namely: 12-29, 30-49, 50-69, over 70 (see https://www.governo.it/it/cscovid19/report-vaccini/)"
   ]
  },
  {
   "cell_type": "code",
   "execution_count": 6,
   "id": "978b16a0",
   "metadata": {},
   "outputs": [],
   "source": [
    "abitanti = np.array([4627514 + 6013709,\n",
    "                     6794332 + 8795919,\n",
    "                     9651541 + 7533486,\n",
    "                     6019293 + 4554107])\n",
    "\n",
    "abitanti_distro = abitanti/np.sum(abitanti)"
   ]
  },
  {
   "cell_type": "markdown",
   "id": "790549eb",
   "metadata": {},
   "source": [
    "Deaths declared by ISTAT due to Covid from the beginning of the epidemic. This information is relevant to understand how the mortality is distributed"
   ]
  },
  {
   "cell_type": "code",
   "execution_count": 7,
   "id": "339b8c03",
   "metadata": {},
   "outputs": [
    {
     "name": "stdout",
     "output_type": "stream",
     "text": [
      "over 70:            101530\n",
      "50-70 years old:     15747\n",
      "under 50:             1016\n"
     ]
    }
   ],
   "source": [
    "# over 70\n",
    "print('over 70:           ', 29488 + 48624 + 23418)\n",
    "\n",
    "# 50-70 yeras old\n",
    "print('50-70 years old:    ', 11728 + 4019)\n",
    "\n",
    "# under 50\n",
    "print('under 50:            ', 1016)\n",
    "\n",
    "decessi_totali = np.array([0, 1016, 15747, 101530])\n",
    "decessi_distro = decessi_totali/np.sum(decessi_totali)"
   ]
  },
  {
   "cell_type": "markdown",
   "id": "d0286dce",
   "metadata": {},
   "source": [
    "fatality rates, for the considered age groups, are taken from:\n",
    "https://github.com/mbevand/covid19-age-stratified-ifr"
   ]
  },
  {
   "cell_type": "code",
   "execution_count": 8,
   "id": "1f41184a",
   "metadata": {},
   "outputs": [],
   "source": [
    "fatality_rates = np.array([0.005, 0.05, 0.7, 5])"
   ]
  },
  {
   "cell_type": "markdown",
   "id": "fb3feeac",
   "metadata": {},
   "source": [
    "### define a minimizer to find the best parameters of the stratified SIR model"
   ]
  },
  {
   "cell_type": "code",
   "execution_count": 9,
   "id": "76c937d1",
   "metadata": {},
   "outputs": [
    {
     "name": "stdout",
     "output_type": "stream",
     "text": [
      "Optimization terminated successfully.\n",
      "         Current function value: 73.766219\n",
      "         Iterations: 238\n",
      "         Function evaluations: 408\n",
      "The average error of the model is  6.9 %\n"
     ]
    }
   ],
   "source": [
    "# define a function to minimize the distance between data and predictions\n",
    "\n",
    "def to_minimize(X, verbose=False):\n",
    "    beta0 = X[0]\n",
    "    gamma = X[1]\n",
    "    tau = X[2]\n",
    "    f_scale = X[3]\n",
    "\n",
    "    ll = len(data_inf)\n",
    "\n",
    "    parz_results = stratified_SIRD(beta0 = beta0, \n",
    "                                  gamma = gamma,\n",
    "                                  tau=tau,\n",
    "                                  fatality_rates_perc = f_scale*fatality_rates,\n",
    "                                  N = abitanti,\n",
    "                                  I0 = data_inf[0]*abitanti_distro, \n",
    "                                  R0 = data_rec[0]*abitanti_distro,\n",
    "                                  D0 = data_dec[0]*decessi_distro)\n",
    "  \n",
    "    S_pred = np.sum(parz_results[1], axis=0)[0:ll]\n",
    "    I_pred = np.sum(parz_results[2], axis=0)[0:ll]\n",
    "    R_pred = np.sum(parz_results[3], axis=0)[0:ll]\n",
    "    D_pred = np.sum(parz_results[4], axis=0)[0:ll]\n",
    "\n",
    "    obs  = np.array([np.sum(abitanti) - data_casi, data_inf, data_rec, data_dec])\n",
    "    pred = np.array([S_pred, I_pred, R_pred, D_pred])\n",
    "  \n",
    "    err = np.sqrt(np.mean((obs - pred)**2/obs))\n",
    "\n",
    "    if verbose == True:\n",
    "        err_perc = round(np.mean(np.abs(obs-pred)/obs*100), 1)\n",
    "        print('The average error of the model is ', err_perc, '%')\n",
    "        return err_perc\n",
    "    \n",
    "    return err\n",
    "\n",
    "from scipy.optimize import minimize\n",
    "initial_params = [0.3, 1/30, 60, 2]\n",
    "x_opt = minimize(to_minimize, initial_params, \n",
    "                 method='Nelder-Mead', options = {'disp':True, 'maxiter':1000})\n",
    "X_opt = x_opt.x\n",
    "\n",
    "avg_err = to_minimize(X_opt, verbose=True)"
   ]
  },
  {
   "cell_type": "markdown",
   "id": "c6c087e7",
   "metadata": {},
   "source": [
    "### compute model predictions"
   ]
  },
  {
   "cell_type": "code",
   "execution_count": 10,
   "id": "de06e27f",
   "metadata": {},
   "outputs": [],
   "source": [
    "parz_results = stratified_SIRD(beta0=X_opt[0], \n",
    "               gamma=X_opt[1], \n",
    "               tau=X_opt[2],\n",
    "               fatality_rates_perc = X_opt[3]*fatality_rates,\n",
    "               N = abitanti,\n",
    "               I0 = data_inf[0]*abitanti_distro, \n",
    "               R0 = data_rec[0]*abitanti_distro,\n",
    "               D0 = data_dec[0]*decessi_distro)\n",
    "\n",
    "S_pred = np.sum(parz_results[1], axis=0)\n",
    "I_pred = np.sum(parz_results[2], axis=0)\n",
    "R_pred = np.sum(parz_results[3], axis=0)\n",
    "D_pred = np.sum(parz_results[4], axis=0)"
   ]
  },
  {
   "cell_type": "markdown",
   "id": "bfca7181",
   "metadata": {},
   "source": [
    "### compare model with true data"
   ]
  },
  {
   "cell_type": "code",
   "execution_count": null,
   "id": "0cdb8a1b",
   "metadata": {},
   "outputs": [],
   "source": [
    "plt.figure(figsize=(10, 10))\n",
    "plt.subplot(2, 2, 1)\n",
    "plt.plot(S_pred, label='Model')\n",
    "plt.plot(np.sum(abitanti) - data_casi, '.', markersize=2, label='Data')\n",
    "plt.legend()\n",
    "plt.grid()\n",
    "plt.xlabel('Time (days)')\n",
    "plt.title('Susceptible')\n",
    "plt.xlim(0, 300)\n",
    "plt.subplot(2, 2, 2)\n",
    "plt.plot(I_pred, label='Model')\n",
    "plt.plot(data_inf, '.', markersize=2, label='Data')\n",
    "plt.legend()\n",
    "plt.grid()\n",
    "plt.xlabel('Time (days)')\n",
    "plt.title('Active infected')\n",
    "plt.xlim(0, 300)\n",
    "plt.subplot(2, 2, 3)\n",
    "plt.plot(R_pred, label='Model')\n",
    "plt.plot(data_rec, '.', markersize=2, label='Data')\n",
    "plt.legend()\n",
    "plt.grid()\n",
    "plt.xlabel('Time (days)')\n",
    "plt.title('Recovered')\n",
    "plt.xlim(0, 300)\n",
    "plt.subplot(2, 2, 4)\n",
    "plt.plot(D_pred, label='Model')\n",
    "plt.plot(data_dec, '.', markersize=2, label='Data')\n",
    "plt.legend()\n",
    "plt.grid()\n",
    "plt.xlabel('Time (days)')\n",
    "plt.title('Deaths')\n",
    "plt.xlim(0, 300)\n",
    "plt.tight_layout()\n",
    "plt.savefig('results/comparison_model_data.png', dpi=300)\n",
    "plt.show()"
   ]
  },
  {
   "cell_type": "code",
   "execution_count": null,
   "id": "a5bad88c",
   "metadata": {},
   "outputs": [],
   "source": []
  }
 ],
 "metadata": {
  "kernelspec": {
   "display_name": "Python 3",
   "language": "python",
   "name": "python3"
  },
  "language_info": {
   "codemirror_mode": {
    "name": "ipython",
    "version": 3
   },
   "file_extension": ".py",
   "mimetype": "text/x-python",
   "name": "python",
   "nbconvert_exporter": "python",
   "pygments_lexer": "ipython3",
   "version": "3.7.10"
  }
 },
 "nbformat": 4,
 "nbformat_minor": 5
}
